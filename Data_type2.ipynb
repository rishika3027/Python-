{
  "nbformat": 4,
  "nbformat_minor": 0,
  "metadata": {
    "colab": {
      "provenance": [],
      "authorship_tag": "ABX9TyPcG2+5xDgf7nuKXOKa1PcY",
      "include_colab_link": true
    },
    "kernelspec": {
      "name": "python3",
      "display_name": "Python 3"
    },
    "language_info": {
      "name": "python"
    }
  },
  "cells": [
    {
      "cell_type": "markdown",
      "metadata": {
        "id": "view-in-github",
        "colab_type": "text"
      },
      "source": [
        "<a href=\"https://colab.research.google.com/github/rishika3027/Python-/blob/main/Data_type2.ipynb\" target=\"_parent\"><img src=\"https://colab.research.google.com/assets/colab-badge.svg\" alt=\"Open In Colab\"/></a>"
      ]
    },
    {
      "cell_type": "code",
      "execution_count": null,
      "metadata": {
        "id": "pUCJlPiKV3Yr",
        "colab": {
          "base_uri": "https://localhost:8080/"
        },
        "outputId": "d969e0d0-cb79-4473-a091-6a3d83a6847e"
      },
      "outputs": [
        {
          "output_type": "stream",
          "name": "stdout",
          "text": [
            "['puppy', 'priya', 1, 3, 'navya']\n"
          ]
        }
      ],
      "source": [
        "a=[\"puppy\",\"priya\",1,3]\n",
        "a.append(\"navya\")\n",
        "print(a)"
      ]
    },
    {
      "cell_type": "code",
      "source": [
        "Iih=[1,2,3,4,5,]\n",
        "h.clear()\n",
        "print(h)"
      ],
      "metadata": {
        "colab": {
          "base_uri": "https://localhost:8080/"
        },
        "id": "SG7NSNYPwrio",
        "outputId": "db0a6763-d186-4406-cfb1-5264202b9b77"
      },
      "execution_count": null,
      "outputs": [
        {
          "output_type": "stream",
          "name": "stdout",
          "text": [
            "[]\n"
          ]
        }
      ]
    },
    {
      "cell_type": "code",
      "source": [
        "g=[9,5,7,\"anna\"]\n",
        "g.copy()\n",
        "print(g)"
      ],
      "metadata": {
        "colab": {
          "base_uri": "https://localhost:8080/"
        },
        "id": "ztBJCSvbxZQu",
        "outputId": "61ad2bd9-3e1a-40fd-af12-893a6b5b8641"
      },
      "execution_count": null,
      "outputs": [
        {
          "output_type": "stream",
          "name": "stdout",
          "text": [
            "[9, 5, 7, 'anna']\n"
          ]
        }
      ]
    },
    {
      "cell_type": "code",
      "source": [
        "fruits = [\"apple\", \"banana\", \"cherry\"]\n",
        "\n",
        "x = fruits.count(\"cherry\")\n",
        "\n",
        "print(x)"
      ],
      "metadata": {
        "colab": {
          "base_uri": "https://localhost:8080/"
        },
        "id": "9Q-nptT6yOTI",
        "outputId": "4db22e2a-2c5e-4d11-97b9-b298103958e0"
      },
      "execution_count": null,
      "outputs": [
        {
          "output_type": "stream",
          "name": "stdout",
          "text": [
            "1\n"
          ]
        }
      ]
    },
    {
      "cell_type": "code",
      "source": [
        "m=[\"telugu\", \"english\",\"hindi\"]\n",
        "n=[\"fox\",5,6,]\n",
        "m.extend(n)\n",
        "print(m)"
      ],
      "metadata": {
        "colab": {
          "base_uri": "https://localhost:8080/"
        },
        "id": "F4X4yY5A1lpO",
        "outputId": "bc1930fa-2435-4ab2-e5b1-6fb2eceda501"
      },
      "execution_count": null,
      "outputs": [
        {
          "output_type": "stream",
          "name": "stdout",
          "text": [
            "['telugu', 'english', 'hindi', 'fox', 5, 6]\n"
          ]
        }
      ]
    },
    {
      "cell_type": "code",
      "source": [
        "priya=[2,3,4,5,6,7,]\n",
        "x = priya.index(7)\n",
        "print(x)"
      ],
      "metadata": {
        "colab": {
          "base_uri": "https://localhost:8080/"
        },
        "id": "qyNgxSQf24mv",
        "outputId": "78a60282-27ee-42e1-e2de-4a3cbe24df6d"
      },
      "execution_count": null,
      "outputs": [
        {
          "output_type": "stream",
          "name": "stdout",
          "text": [
            "5\n"
          ]
        }
      ]
    },
    {
      "cell_type": "code",
      "source": [
        "fruits = ['apple', 'banana', 'cherry']\n",
        "\n",
        "fruits.insert(1, \"orange\")\n",
        "\n",
        "print(fruits)"
      ],
      "metadata": {
        "colab": {
          "base_uri": "https://localhost:8080/"
        },
        "id": "YJcxRvLZ3zHT",
        "outputId": "73cc954b-2591-4b70-db83-46a5eb947687"
      },
      "execution_count": null,
      "outputs": [
        {
          "output_type": "stream",
          "name": "stdout",
          "text": [
            "['apple', 'orange', 'banana', 'cherry']\n"
          ]
        }
      ]
    },
    {
      "cell_type": "code",
      "source": [
        "s=[7,8,9,0,6,5,3]\n",
        "s.pop(4)\n",
        "print(s)"
      ],
      "metadata": {
        "colab": {
          "base_uri": "https://localhost:8080/"
        },
        "id": "eSPqfkPI4GWk",
        "outputId": "3986dcc6-5770-4b6e-f227-b49fc3a3bd60"
      },
      "execution_count": null,
      "outputs": [
        {
          "output_type": "stream",
          "name": "stdout",
          "text": [
            "[7, 8, 9, 0, 5, 3]\n"
          ]
        }
      ]
    },
    {
      "cell_type": "code",
      "source": [
        "q=[\"hello\",\"Nagar\",\"baby\"]\n",
        "q.remove(\"Nagar\")\n",
        "print(q)"
      ],
      "metadata": {
        "colab": {
          "base_uri": "https://localhost:8080/"
        },
        "id": "IKluqZ1u4eRK",
        "outputId": "c01578e6-4952-40db-8271-868599256908"
      },
      "execution_count": null,
      "outputs": [
        {
          "output_type": "stream",
          "name": "stdout",
          "text": [
            "['hello', 'baby']\n"
          ]
        }
      ]
    },
    {
      "cell_type": "code",
      "source": [
        "e=[0,9,8,7,6,5,4,3,2,1]\n",
        "e.reverse()\n",
        "print(e)"
      ],
      "metadata": {
        "colab": {
          "base_uri": "https://localhost:8080/"
        },
        "id": "9zhzwWls5AS3",
        "outputId": "24a89f55-7d89-4a58-a5b1-e3e237955596"
      },
      "execution_count": null,
      "outputs": [
        {
          "output_type": "stream",
          "name": "stdout",
          "text": [
            "[1, 2, 3, 4, 5, 6, 7, 8, 9, 0]\n"
          ]
        }
      ]
    },
    {
      "cell_type": "code",
      "source": [
        "y=[\"run\",\"egg\",\"apple\"]\n",
        "y.sort()\n",
        "print(y)"
      ],
      "metadata": {
        "colab": {
          "base_uri": "https://localhost:8080/"
        },
        "id": "6c7aJQXN48M_",
        "outputId": "aa12c621-9674-4637-b64e-6db518c7c11a"
      },
      "execution_count": null,
      "outputs": [
        {
          "output_type": "stream",
          "name": "stdout",
          "text": [
            "['apple', 'egg', 'run']\n"
          ]
        }
      ]
    },
    {
      "cell_type": "code",
      "source": [
        "c={\"apple\":6,\"word\":9}\n",
        "print(c.keys())\n",
        "print(c.items())\n",
        "print(c.values())\n",
        "print(c)\n",
        "print(type(c))\n",
        "print(c.pop(\"apple\"))\n",
        "print(c.update({\"course\":5}))"
      ],
      "metadata": {
        "colab": {
          "base_uri": "https://localhost:8080/"
        },
        "id": "E31IHarG6N-f",
        "outputId": "e87ab02a-9316-4fb8-886d-e6b89944197c"
      },
      "execution_count": null,
      "outputs": [
        {
          "output_type": "stream",
          "name": "stdout",
          "text": [
            "dict_keys(['apple', 'word'])\n",
            "dict_items([('apple', 6), ('word', 9)])\n",
            "dict_values([6, 9])\n",
            "{'apple': 6, 'word': 9}\n",
            "<class 'dict'>\n",
            "6\n",
            "None\n"
          ]
        }
      ]
    },
    {
      "cell_type": "code",
      "source": [
        "d={7,6,5,9}\n",
        "print(d)\n",
        "print(type(d))"
      ],
      "metadata": {
        "colab": {
          "base_uri": "https://localhost:8080/"
        },
        "id": "oLHaWTjb7kVR",
        "outputId": "ef8d9748-76c6-4ddb-c391-3cd0d4364eb0"
      },
      "execution_count": null,
      "outputs": [
        {
          "output_type": "stream",
          "name": "stdout",
          "text": [
            "{9, 5, 6, 7}\n",
            "<class 'set'>\n"
          ]
        }
      ]
    },
    {
      "cell_type": "code",
      "source": [
        "l=(1,2,3,4,7)\n",
        "print(l)\n",
        "print(type(l))"
      ],
      "metadata": {
        "colab": {
          "base_uri": "https://localhost:8080/"
        },
        "id": "bDzv20mt8f7Z",
        "outputId": "e247b375-14c9-4a50-f7df-280a3a29a432"
      },
      "execution_count": null,
      "outputs": [
        {
          "output_type": "stream",
          "name": "stdout",
          "text": [
            "(1, 2, 3, 4, 7)\n",
            "<class 'tuple'>\n"
          ]
        }
      ]
    },
    {
      "cell_type": "code",
      "source": [
        "\n",
        "a=(\"hi i am rishi\")\n",
        "x=a.capitalize()\n",
        "print(x)"
      ],
      "metadata": {
        "colab": {
          "base_uri": "https://localhost:8080/"
        },
        "id": "lmMOgg6pICqu",
        "outputId": "d80e7463-d0d2-4aaa-b4ef-98961357820b"
      },
      "execution_count": 1,
      "outputs": [
        {
          "output_type": "stream",
          "name": "stdout",
          "text": [
            "Hi i am rishi\n"
          ]
        }
      ]
    },
    {
      "cell_type": "code",
      "source": [
        "intro=(\"hlo Every One\")\n",
        "y=intro.capitalize()\n",
        "print(y)"
      ],
      "metadata": {
        "colab": {
          "base_uri": "https://localhost:8080/"
        },
        "id": "1BOEcTM3IODO",
        "outputId": "bf72d47b-d1ad-4554-e897-5eb2c6057ad1"
      },
      "execution_count": 2,
      "outputs": [
        {
          "output_type": "stream",
          "name": "stdout",
          "text": [
            "Hlo every one\n"
          ]
        }
      ]
    },
    {
      "cell_type": "code",
      "source": [
        "txt=(\"this Is kavYa\")\n",
        "p=txt.capitalize()\n",
        "print(p)"
      ],
      "metadata": {
        "colab": {
          "base_uri": "https://localhost:8080/"
        },
        "id": "yktVemX9IRcA",
        "outputId": "2c0d802f-1d93-44d8-9af2-9c5d613d973c"
      },
      "execution_count": 3,
      "outputs": [
        {
          "output_type": "stream",
          "name": "stdout",
          "text": [
            "This is kavya\n"
          ]
        }
      ]
    },
    {
      "cell_type": "code",
      "source": [
        "a=(\"THIS IS MY BOOK\")\n",
        "y=a.casefold()\n",
        "print(y)"
      ],
      "metadata": {
        "colab": {
          "base_uri": "https://localhost:8080/"
        },
        "id": "ZXEjZ2VcIUbz",
        "outputId": "4dfe768b-3f86-4a4a-8944-de9e05cb7f68"
      },
      "execution_count": 4,
      "outputs": [
        {
          "output_type": "stream",
          "name": "stdout",
          "text": [
            "this is my book\n"
          ]
        }
      ]
    },
    {
      "cell_type": "code",
      "source": [
        "y=(\"THIS Is kavYA\")\n",
        "a=y.casefold()\n",
        "print(a)"
      ],
      "metadata": {
        "colab": {
          "base_uri": "https://localhost:8080/"
        },
        "id": "a9No1lNzIbTD",
        "outputId": "41cd8c44-acd2-41cc-814a-277d74c837ff"
      },
      "execution_count": 5,
      "outputs": [
        {
          "output_type": "stream",
          "name": "stdout",
          "text": [
            "this is kavya\n"
          ]
        }
      ]
    },
    {
      "cell_type": "code",
      "source": [
        "h=(\"red is a colour\")\n",
        "i=h.casefold()\n",
        "print(i)"
      ],
      "metadata": {
        "colab": {
          "base_uri": "https://localhost:8080/"
        },
        "id": "5IzKAEnZIg3V",
        "outputId": "972231a4-c5d9-4906-8cef-9626d69303eb"
      },
      "execution_count": 6,
      "outputs": [
        {
          "output_type": "stream",
          "name": "stdout",
          "text": [
            "red is a colour\n"
          ]
        }
      ]
    },
    {
      "cell_type": "code",
      "source": [
        "a=\"kavya\"\n",
        "y=a.center(10)\n",
        "print(y)"
      ],
      "metadata": {
        "colab": {
          "base_uri": "https://localhost:8080/"
        },
        "id": "9Aic5C-HImPH",
        "outputId": "d0a8a6e1-d6fb-4e82-adba-d09fff2280d8"
      },
      "execution_count": 7,
      "outputs": [
        {
          "output_type": "stream",
          "name": "stdout",
          "text": [
            "  kavya   \n"
          ]
        }
      ]
    },
    {
      "cell_type": "code",
      "source": [
        "l=\"i like navya,navya is a cute girl\"\n",
        "k=l.count(\"navya\")\n",
        "print(k)"
      ],
      "metadata": {
        "colab": {
          "base_uri": "https://localhost:8080/"
        },
        "id": "0Bd9vyNhInyY",
        "outputId": "1209965f-328a-4723-c0c6-9bcac2451dd9"
      },
      "execution_count": 8,
      "outputs": [
        {
          "output_type": "stream",
          "name": "stdout",
          "text": [
            "2\n"
          ]
        }
      ]
    },
    {
      "cell_type": "code",
      "source": [
        "k=\"i love flowers,mostly rose flowers\"\n",
        "i=k.count(\"flowers\")\n",
        "print(i)"
      ],
      "metadata": {
        "colab": {
          "base_uri": "https://localhost:8080/"
        },
        "id": "UHQzAsPYIs-8",
        "outputId": "faa753df-c4bd-4b7b-f10e-2f993e322d85"
      },
      "execution_count": 9,
      "outputs": [
        {
          "output_type": "stream",
          "name": "stdout",
          "text": [
            "2\n"
          ]
        }
      ]
    },
    {
      "cell_type": "code",
      "source": [
        "p=\"she is puppy,puppy is my best friend\"\n",
        "o=p.count(\"best\")\n",
        "print(o)"
      ],
      "metadata": {
        "colab": {
          "base_uri": "https://localhost:8080/"
        },
        "id": "B5c-IfIPIugK",
        "outputId": "64633e7b-8f5c-4278-e023-fc04252cbd9f"
      },
      "execution_count": 10,
      "outputs": [
        {
          "output_type": "stream",
          "name": "stdout",
          "text": [
            "1\n"
          ]
        }
      ]
    },
    {
      "cell_type": "code",
      "source": [
        "txt=\"this is my book.\"\n",
        "p=txt.endswith(\".\")\n",
        "print(p)"
      ],
      "metadata": {
        "colab": {
          "base_uri": "https://localhost:8080/"
        },
        "id": "bWZfkAKqIzj1",
        "outputId": "58b07f0e-a7d4-4e63-a425-690890e54621"
      },
      "execution_count": 11,
      "outputs": [
        {
          "output_type": "stream",
          "name": "stdout",
          "text": [
            "True\n"
          ]
        }
      ]
    },
    {
      "cell_type": "code",
      "source": [
        "b=\"she is my frnd\"\n",
        "g=b.endswith(\"o\")\n",
        "print(g)"
      ],
      "metadata": {
        "colab": {
          "base_uri": "https://localhost:8080/"
        },
        "id": "-JibdvS-I4tV",
        "outputId": "1552bd10-df4f-401e-94c7-ed63779bef79"
      },
      "execution_count": 12,
      "outputs": [
        {
          "output_type": "stream",
          "name": "stdout",
          "text": [
            "False\n"
          ]
        }
      ]
    },
    {
      "cell_type": "code",
      "source": [
        "e=\"home work;\"\n",
        "y=e.endswith(\";\")\n",
        "print(y)"
      ],
      "metadata": {
        "colab": {
          "base_uri": "https://localhost:8080/"
        },
        "id": "-efRmSVnI5uk",
        "outputId": "ad0632bc-810a-42ac-d5dd-2edea48fe368"
      },
      "execution_count": 13,
      "outputs": [
        {
          "output_type": "stream",
          "name": "stdout",
          "text": [
            "True\n"
          ]
        }
      ]
    },
    {
      "cell_type": "code",
      "source": [
        "n=\"game is over\"\n",
        "y=n.find(\"is\")\n",
        "print(y)"
      ],
      "metadata": {
        "colab": {
          "base_uri": "https://localhost:8080/"
        },
        "id": "a44s9N72I8u1",
        "outputId": "dc238f02-32ee-4f2a-c256-b64de278f741"
      },
      "execution_count": 14,
      "outputs": [
        {
          "output_type": "stream",
          "name": "stdout",
          "text": [
            "5\n"
          ]
        }
      ]
    },
    {
      "cell_type": "code",
      "source": [
        "n=\"navya is my bestie\"\n",
        "y=n.find(\"b\")\n",
        "print(y)"
      ],
      "metadata": {
        "colab": {
          "base_uri": "https://localhost:8080/"
        },
        "id": "Gz2Ee0mhJAEE",
        "outputId": "1a291caf-a989-44c6-e703-10c681ecb29c"
      },
      "execution_count": 15,
      "outputs": [
        {
          "output_type": "stream",
          "name": "stdout",
          "text": [
            "12\n"
          ]
        }
      ]
    },
    {
      "cell_type": "code",
      "source": [
        "y=\"sit here\"\n",
        "n=y.find(\"e\")\n",
        "print(n)"
      ],
      "metadata": {
        "colab": {
          "base_uri": "https://localhost:8080/"
        },
        "id": "cxMMFUuWJE9j",
        "outputId": "ec0e5cc4-3bc2-46e5-dd86-a91854c8836b"
      },
      "execution_count": 16,
      "outputs": [
        {
          "output_type": "stream",
          "name": "stdout",
          "text": [
            "5\n"
          ]
        }
      ]
    },
    {
      "cell_type": "code",
      "source": [
        "p=(\"i am from room 323\")\n",
        "n=p.rfind(\"m\")\n",
        "print(n)"
      ],
      "metadata": {
        "colab": {
          "base_uri": "https://localhost:8080/"
        },
        "id": "1tsFU9w4JIW3",
        "outputId": "588c0100-4d8d-4069-87de-bedf2c182c80"
      },
      "execution_count": 17,
      "outputs": [
        {
          "output_type": "stream",
          "name": "stdout",
          "text": [
            "13\n"
          ]
        }
      ]
    },
    {
      "cell_type": "code",
      "source": [
        "y=(\"hello santhi priya\")\n",
        "n=y.index(\"priya\")\n",
        "print(n)"
      ],
      "metadata": {
        "colab": {
          "base_uri": "https://localhost:8080/"
        },
        "id": "W10QEt2IJLSL",
        "outputId": "f2d69d56-1e90-460c-f268-4c180fb87b38"
      },
      "execution_count": 18,
      "outputs": [
        {
          "output_type": "stream",
          "name": "stdout",
          "text": [
            "13\n"
          ]
        }
      ]
    },
    {
      "cell_type": "code",
      "source": [
        "y = \"Room323\"\n",
        "x = y.isalnum()\n",
        "print(x)"
      ],
      "metadata": {
        "colab": {
          "base_uri": "https://localhost:8080/"
        },
        "id": "nV9HPELzJPMb",
        "outputId": "48aeae0a-62a4-41d5-fbda-df650ed34863"
      },
      "execution_count": 19,
      "outputs": [
        {
          "output_type": "stream",
          "name": "stdout",
          "text": [
            "True\n"
          ]
        }
      ]
    },
    {
      "cell_type": "code",
      "source": [
        "txt = \"puppy\"\n",
        "x = txt.isalpha()\n",
        "print(x)"
      ],
      "metadata": {
        "colab": {
          "base_uri": "https://localhost:8080/"
        },
        "id": "oFe_dmJwJSSU",
        "outputId": "61c0dd84-a1be-4e00-f30d-0b3e256fd61b"
      },
      "execution_count": 20,
      "outputs": [
        {
          "output_type": "stream",
          "name": "stdout",
          "text": [
            "True\n"
          ]
        }
      ]
    },
    {
      "cell_type": "code",
      "source": [
        "txt = \"This Is Puppy And Navya\"\n",
        "x = txt.istitle()\n",
        "print(x)"
      ],
      "metadata": {
        "colab": {
          "base_uri": "https://localhost:8080/"
        },
        "id": "emAfdOY0JV--",
        "outputId": "b940fc05-127e-4df7-82d8-40a7f62a35d3"
      },
      "execution_count": 21,
      "outputs": [
        {
          "output_type": "stream",
          "name": "stdout",
          "text": [
            "True\n"
          ]
        }
      ]
    },
    {
      "cell_type": "code",
      "source": [
        "txt = \"565543\"\n",
        "x = txt.isnumeric()\n",
        "print(x)"
      ],
      "metadata": {
        "colab": {
          "base_uri": "https://localhost:8080/"
        },
        "id": "WhZEyUb3JbxR",
        "outputId": "16238295-50b4-4e60-cec4-d9d3ad677a94"
      },
      "execution_count": 22,
      "outputs": [
        {
          "output_type": "stream",
          "name": "stdout",
          "text": [
            "True\n"
          ]
        }
      ]
    },
    {
      "cell_type": "code",
      "source": [
        "y= \"Hello, this is puppy.\"\n",
        "x = y.startswith(\"Hello\")\n",
        "print(x)"
      ],
      "metadata": {
        "colab": {
          "base_uri": "https://localhost:8080/"
        },
        "id": "XJxkafA5JisI",
        "outputId": "4a4a7aec-04eb-4614-92fe-64ec3e648e7c"
      },
      "execution_count": 23,
      "outputs": [
        {
          "output_type": "stream",
          "name": "stdout",
          "text": [
            "True\n"
          ]
        }
      ]
    },
    {
      "cell_type": "code",
      "source": [
        "y = (\"navya\", \"puppy\", \"pandu\")\n",
        "x = \"^\".join(y)\n",
        "print(x)"
      ],
      "metadata": {
        "colab": {
          "base_uri": "https://localhost:8080/"
        },
        "id": "0zAGjPbsJl0r",
        "outputId": "95abd63f-7b8e-4161-9557-1456d5a20b68"
      },
      "execution_count": 24,
      "outputs": [
        {
          "output_type": "stream",
          "name": "stdout",
          "text": [
            "navya^puppy^pandu\n"
          ]
        }
      ]
    },
    {
      "cell_type": "code",
      "source": [
        "Y = \"THIS IS NAVYA!\"\n",
        "x = Y.isupper()\n",
        "print(x)"
      ],
      "metadata": {
        "colab": {
          "base_uri": "https://localhost:8080/"
        },
        "id": "4ydzXt2zJsSt",
        "outputId": "6ad91cd4-e3ed-4e20-c1aa-ee2e2cfd43ec"
      },
      "execution_count": 25,
      "outputs": [
        {
          "output_type": "stream",
          "name": "stdout",
          "text": [
            "True\n"
          ]
        }
      ]
    },
    {
      "cell_type": "code",
      "source": [
        "y= \"i love music\"\n",
        "x = y.rindex(\"music\")\n",
        "print(x)"
      ],
      "metadata": {
        "colab": {
          "base_uri": "https://localhost:8080/"
        },
        "id": "inj6UoutJvFc",
        "outputId": "c8658aa4-2e9d-4f44-eddd-eb2a412e7fc5"
      },
      "execution_count": 26,
      "outputs": [
        {
          "output_type": "stream",
          "name": "stdout",
          "text": [
            "7\n"
          ]
        }
      ]
    },
    {
      "cell_type": "code",
      "source": [
        "y= \"navya geethika\"\n",
        "x = y.islower()\n",
        "print(x)"
      ],
      "metadata": {
        "colab": {
          "base_uri": "https://localhost:8080/"
        },
        "id": "Y2mmhHXhJz5l",
        "outputId": "14ab8a81-9840-449d-a329-7cc09996a90f"
      },
      "execution_count": 27,
      "outputs": [
        {
          "output_type": "stream",
          "name": "stdout",
          "text": [
            "True\n"
          ]
        }
      ]
    },
    {
      "cell_type": "code",
      "source": [
        "y = \"     banana     \"\n",
        "x = y.lstrip()\n",
        "print(\"of all fruits\", x, \"is my favorite\")"
      ],
      "metadata": {
        "colab": {
          "base_uri": "https://localhost:8080/"
        },
        "id": "upYKB6dcJ22n",
        "outputId": "78b593eb-1eaa-4fe7-bc9c-edd4eab96b18"
      },
      "execution_count": 28,
      "outputs": [
        {
          "output_type": "stream",
          "name": "stdout",
          "text": [
            "of all fruits banana      is my favorite\n"
          ]
        }
      ]
    },
    {
      "cell_type": "code",
      "source": [
        "txt = \"Hello My Name Is navya\"\n",
        "x = txt.swapcase()\n",
        "print(x)"
      ],
      "metadata": {
        "colab": {
          "base_uri": "https://localhost:8080/"
        },
        "id": "st30Ev_qJ83I",
        "outputId": "08ccaba5-841f-41bd-832e-b11a49708bb2"
      },
      "execution_count": 29,
      "outputs": [
        {
          "output_type": "stream",
          "name": "stdout",
          "text": [
            "hELLO mY nAME iS NAVYA\n"
          ]
        }
      ]
    },
    {
      "cell_type": "code",
      "source": [
        "txt = \"Hello my friends\"\n",
        "x = txt.upper()\n",
        "print(x)"
      ],
      "metadata": {
        "colab": {
          "base_uri": "https://localhost:8080/"
        },
        "id": "Z_-EYoznKAET",
        "outputId": "239cb92d-6708-49f3-fa41-a5e43aeb6c6a"
      },
      "execution_count": 30,
      "outputs": [
        {
          "output_type": "stream",
          "name": "stdout",
          "text": [
            "HELLO MY FRIENDS\n"
          ]
        }
      ]
    },
    {
      "cell_type": "code",
      "source": [
        "txt = \"Welcome to my Room\"\n",
        "x = txt.title()\n",
        "print(x)"
      ],
      "metadata": {
        "colab": {
          "base_uri": "https://localhost:8080/"
        },
        "id": "rohfExiaKBSS",
        "outputId": "7ad99419-328b-41cc-e52c-1c1f91bf0593"
      },
      "execution_count": 31,
      "outputs": [
        {
          "output_type": "stream",
          "name": "stdout",
          "text": [
            "Welcome To My Room\n"
          ]
        }
      ]
    },
    {
      "cell_type": "code",
      "source": [
        "a=5\n",
        "b=6\n",
        "c=7\n",
        "if a>b and a>c:\n",
        "   print(a)\n",
        "elif b>c and b>a:\n",
        "     print(b)\n",
        "else:\n",
        "     print(c)"
      ],
      "metadata": {
        "colab": {
          "base_uri": "https://localhost:8080/"
        },
        "id": "ZKJ4qhVbUIGn",
        "outputId": "78db3641-2297-410b-b117-0234435e3058"
      },
      "execution_count": 32,
      "outputs": [
        {
          "output_type": "stream",
          "name": "stdout",
          "text": [
            "7\n"
          ]
        }
      ]
    }
  ]
}